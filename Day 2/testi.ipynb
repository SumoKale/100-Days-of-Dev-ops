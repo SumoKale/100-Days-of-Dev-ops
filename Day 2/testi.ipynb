{
 "cells": [
  {
   "cell_type": "code",
   "execution_count": 22,
   "metadata": {},
   "outputs": [
    {
     "name": "stdout",
     "output_type": "stream",
     "text": [
      "Wlecome back to the Day 2 of Python Using jyupeter notepad\n"
     ]
    }
   ],
   "source": [
    "print(\"Wlecome back to the Day 2 of Python Using jyupeter notepad\")"
   ]
  },
  {
   "cell_type": "code",
   "execution_count": 36,
   "metadata": {},
   "outputs": [
    {
     "name": "stdout",
     "output_type": "stream",
     "text": [
      "42\n"
     ]
    }
   ],
   "source": [
    "print(8 * (2 + 2) + 3 ** 2 + 1)                    #arithmatic oparation "
   ]
  },
  {
   "cell_type": "code",
   "execution_count": 39,
   "metadata": {},
   "outputs": [
    {
     "name": "stdout",
     "output_type": "stream",
     "text": [
      "Python: it is fun launguage to learn\n"
     ]
    }
   ],
   "source": [
    "#string Functonality\n",
    "\n",
    "print(\"Python\" + \": it is fun launguage to learn\")   # it wiil be okay even though if we not use the + to concate \n",
    "\n"
   ]
  },
  {
   "cell_type": "code",
   "execution_count": 48,
   "metadata": {},
   "outputs": [
    {
     "name": "stdout",
     "output_type": "stream",
     "text": [
      "C:\\newFolder\n"
     ]
    }
   ],
   "source": [
    "# print(\"\\\"This is a quote.\\\"\")                  #use \\ to escape the special charecter\n",
    "print(\"C:\\\\newFolder\")"
   ]
  },
  {
   "cell_type": "code",
   "execution_count": 54,
   "metadata": {},
   "outputs": [
    {
     "name": "stdout",
     "output_type": "stream",
     "text": [
      "That\"s right. Python is cool.\n"
     ]
    }
   ],
   "source": [
    "print('That\"s right. Python is cool.')"
   ]
  },
  {
   "cell_type": "code",
   "execution_count": 58,
   "metadata": {},
   "outputs": [
    {
     "name": "stdout",
     "output_type": "stream",
     "text": [
      "This is a\n",
      "block quote\n"
     ]
    }
   ],
   "source": [
    "print(\"\"\"This is a\n",
    "block quote\"\"\")"
   ]
  },
  {
   "cell_type": "code",
   "execution_count": 62,
   "metadata": {},
   "outputs": [
    {
     "name": "stdout",
     "output_type": "stream",
     "text": [
      "The text can also be indented\n"
     ]
    }
   ],
   "source": [
    "print(\"The text can also be indented\")"
   ]
  },
  {
   "cell_type": "code",
   "execution_count": 66,
   "metadata": {},
   "outputs": [
    {
     "name": "stdout",
     "output_type": "stream",
     "text": [
      "C:\\newFolder\n"
     ]
    }
   ],
   "source": [
    "print(r\"C:\\newFolder\")                     # adding \\ or adding r in the begining it will print thr raw string"
   ]
  },
  {
   "cell_type": "code",
   "execution_count": 77,
   "metadata": {},
   "outputs": [
    {
     "name": "stdout",
     "output_type": "stream",
     "text": [
      "True\n"
     ]
    }
   ],
   "source": [
    "#Relational operator \n",
    "\n",
    "print(True and True)"
   ]
  },
  {
   "cell_type": "code",
   "execution_count": 79,
   "metadata": {},
   "outputs": [
    {
     "name": "stdout",
     "output_type": "stream",
     "text": [
      "end of Day 2 \n",
      " :Tommorow we will start with New chapter\n"
     ]
    }
   ],
   "source": [
    "print(\"end of Day 2 \\n :Tommorow we will start with {}\" .format (\"New chapter\"))"
   ]
  }
 ],
 "metadata": {
  "interpreter": {
   "hash": "520a4f93599ee32c0044c310c1ed4bb16303779430f92ddff13639fecfd9b2bd"
  },
  "kernelspec": {
   "display_name": "Python 3.10.4 64-bit",
   "language": "python",
   "name": "python3"
  },
  "language_info": {
   "codemirror_mode": {
    "name": "ipython",
    "version": 3
   },
   "file_extension": ".py",
   "mimetype": "text/x-python",
   "name": "python",
   "nbconvert_exporter": "python",
   "pygments_lexer": "ipython3",
   "version": "3.10.4"
  },
  "orig_nbformat": 4
 },
 "nbformat": 4,
 "nbformat_minor": 2
}
