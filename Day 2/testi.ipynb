{
 "cells": [
  {
   "cell_type": "code",
   "execution_count": 21,
   "metadata": {},
   "outputs": [
    {
     "name": "stdout",
     "output_type": "stream",
     "text": [
      "Wlecome back to the Day 2 of Python Using jyupeter notepad\n"
     ]
    }
   ],
   "source": [
    "print(\"Wlecome back to the Day 2 of Python Using jyupeter notepad\")"
   ]
  }
 ],
 "metadata": {
  "interpreter": {
   "hash": "520a4f93599ee32c0044c310c1ed4bb16303779430f92ddff13639fecfd9b2bd"
  },
  "kernelspec": {
   "display_name": "Python 3.10.4 64-bit",
   "language": "python",
   "name": "python3"
  },
  "language_info": {
   "codemirror_mode": {
    "name": "ipython",
    "version": 3
   },
   "file_extension": ".py",
   "mimetype": "text/x-python",
   "name": "python",
   "nbconvert_exporter": "python",
   "pygments_lexer": "ipython3",
   "version": "3.10.4"
  },
  "orig_nbformat": 4
 },
 "nbformat": 4,
 "nbformat_minor": 2
}
