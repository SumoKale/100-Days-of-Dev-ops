{
 "cells": [
  {
   "cell_type": "code",
   "execution_count": 3,
   "metadata": {},
   "outputs": [
    {
     "name": "stdout",
     "output_type": "stream",
     "text": [
      "Today we learn about Variable and Variable type\n"
     ]
    }
   ],
   "source": [
    "print(\"Today we learn about {} and {}\" .format(\"Variable\",\"Variable type\") )"
   ]
  },
  {
   "cell_type": "code",
   "execution_count": 41,
   "metadata": {},
   "outputs": [],
   "source": [
    "First = \"Hi\"\n",
    "_name = \"Sumit kale.\"\n",
    "Greeting = \"There\"\n",
    "_bestLine_ep3_ = \"I'm Learning Python\"\n",
    "released = 2005\n",
    "a = 3\n",
    "b = 4\n",
    "c = (a ** 2 + b ** 2) ** .5\n"
   ]
  },
  {
   "cell_type": "code",
   "execution_count": 29,
   "metadata": {},
   "outputs": [
    {
     "name": "stdout",
     "output_type": "stream",
     "text": [
      "Hi There\n",
      "\tSumit kale. I'm Learning Python\n"
     ]
    }
   ],
   "source": [
    "print(First +\" \"+  Greeting + \"\\n\\t\" + _name + \" \" + _bestLine_ep3_)"
   ]
  },
  {
   "cell_type": "code",
   "execution_count": 31,
   "metadata": {},
   "outputs": [
    {
     "name": "stdout",
     "output_type": "stream",
     "text": [
      "Hello There\n",
      "\tSumit kale. I'm Learning Python\n"
     ]
    }
   ],
   "source": [
    "print(\"{} {}\\n\\t{} {}\".format(greeting, Greeting, _name, _bestLine_ep3_))"
   ]
  },
  {
   "cell_type": "code",
   "execution_count": 38,
   "metadata": {},
   "outputs": [
    {
     "name": "stdout",
     "output_type": "stream",
     "text": [
      " my birth year is 2005\n"
     ]
    }
   ],
   "source": [
    "\n",
    "print(\" my birth year is \" + str(released))"
   ]
  },
  {
   "cell_type": "code",
   "execution_count": 42,
   "metadata": {},
   "outputs": [
    {
     "name": "stdout",
     "output_type": "stream",
     "text": [
      "my birth yaear is 2005\n"
     ]
    }
   ],
   "source": [
    "print(\"my birth yaear is {}\" .format(released))"
   ]
  },
  {
   "cell_type": "code",
   "execution_count": 44,
   "metadata": {},
   "outputs": [
    {
     "name": "stdout",
     "output_type": "stream",
     "text": [
      "Pythagorean Theorem: a^2 + b^2 = c^2, so when a = 3 and b = 4, then c = 5.0\n"
     ]
    }
   ],
   "source": [
    "print(\"Pythagorean Theorem: a^2 + b^2 = c^2, so when a = {} and b = {}, then c = {}\".format(a, b, c))"
   ]
  },
  {
   "cell_type": "code",
   "execution_count": 46,
   "metadata": {},
   "outputs": [],
   "source": [
    "film = \"Revenge of the Sith\""
   ]
  },
  {
   "cell_type": "code",
   "execution_count": 55,
   "metadata": {},
   "outputs": [
    {
     "name": "stdout",
     "output_type": "stream",
     "text": [
      "True\n",
      "True\n",
      "True\n"
     ]
    }
   ],
   "source": [
    "print(\"Sith\" in film)\n",
    "print(\"Sith\" in film)\n",
    "print(\"sith\" in film.lower())"
   ]
  },
  {
   "cell_type": "code",
   "execution_count": 61,
   "metadata": {},
   "outputs": [
    {
     "data": {
      "text/plain": [
       "int"
      ]
     },
     "execution_count": 61,
     "metadata": {},
     "output_type": "execute_result"
    }
   ],
   "source": [
    "var = \"Variables are mutable\"\n",
    "type(var)\n",
    "var = 3\n",
    "type(var)\n",
    "\n"
   ]
  },
  {
   "cell_type": "code",
   "execution_count": 69,
   "metadata": {},
   "outputs": [
    {
     "data": {
      "text/plain": [
       "float"
      ]
     },
     "execution_count": 69,
     "metadata": {},
     "output_type": "execute_result"
    }
   ],
   "source": [
    "var= float(var)\n",
    "type(var)"
   ]
  },
  {
   "cell_type": "code",
   "execution_count": 70,
   "metadata": {},
   "outputs": [
    {
     "name": "stdout",
     "output_type": "stream",
     "text": [
      "end of the day 3 wher we learn about thr Revenge of the Sith\n"
     ]
    }
   ],
   "source": [
    "print(\"end of the day 3 wher we learn about thr {}\" .format(film))"
   ]
  }
 ],
 "metadata": {
  "interpreter": {
   "hash": "520a4f93599ee32c0044c310c1ed4bb16303779430f92ddff13639fecfd9b2bd"
  },
  "kernelspec": {
   "display_name": "Python 3.10.4 64-bit",
   "language": "python",
   "name": "python3"
  },
  "language_info": {
   "codemirror_mode": {
    "name": "ipython",
    "version": 3
   },
   "file_extension": ".py",
   "mimetype": "text/x-python",
   "name": "python",
   "nbconvert_exporter": "python",
   "pygments_lexer": "ipython3",
   "version": "3.10.4"
  },
  "orig_nbformat": 4
 },
 "nbformat": 4,
 "nbformat_minor": 2
}
