{
 "cells": [
  {
   "cell_type": "code",
   "execution_count": 4,
   "metadata": {},
   "outputs": [
    {
     "name": "stdout",
     "output_type": "stream",
     "text": [
      "Sumit kale\n"
     ]
    }
   ],
   "source": [
    "print(\"Sumit kale\")"
   ]
  },
  {
   "cell_type": "code",
   "execution_count": 6,
   "metadata": {},
   "outputs": [
    {
     "name": "stdout",
     "output_type": "stream",
     "text": [
      "why you need to learn python\n"
     ]
    }
   ],
   "source": [
    "print(\"why you need to learn python\")"
   ]
  },
  {
   "cell_type": "code",
   "execution_count": 8,
   "metadata": {},
   "outputs": [
    {
     "name": "stdout",
     "output_type": "stream",
     "text": [
      "Rudy Rudy Rudy Rudy Rudy \n"
     ]
    }
   ],
   "source": [
    "print(\"Rudy \" * 5)"
   ]
  },
  {
   "cell_type": "code",
   "execution_count": 20,
   "metadata": {},
   "outputs": [
    {
     "name": "stdout",
     "output_type": "stream",
     "text": [
      "Learn\n",
      "\tWhat do you mean by Learn\n"
     ]
    }
   ],
   "source": [
    "print(\"Learn\\n\\tWhat do you mean by Learn\")"
   ]
  },
  {
   "cell_type": "code",
   "execution_count": 23,
   "metadata": {},
   "outputs": [
    {
     "name": "stdout",
     "output_type": "stream",
     "text": [
      "200\n"
     ]
    }
   ],
   "source": [
    "print(100+100)"
   ]
  },
  {
   "cell_type": "code",
   "execution_count": 26,
   "metadata": {},
   "outputs": [
    {
     "name": "stdout",
     "output_type": "stream",
     "text": [
      "This is the answer to life, the universe, and everything: 42\n"
     ]
    }
   ],
   "source": [
    "print(\"This is the answer to life, the universe, and everything: \" + str(42))"
   ]
  },
  {
   "cell_type": "code",
   "execution_count": 28,
   "metadata": {},
   "outputs": [
    {
     "name": "stdout",
     "output_type": "stream",
     "text": [
      "The number of the counting shall be 3. No more. No less\n"
     ]
    }
   ],
   "source": [
    "print(\"The number of the {} shall be {}. No more. No less\".format(\"counting\", 3))"
   ]
  },
  {
   "cell_type": "code",
   "execution_count": 36,
   "metadata": {},
   "outputs": [
    {
     "name": "stdout",
     "output_type": "stream",
     "text": [
      "My name is Sumitakale\n",
      "I'm working as a Student at GHRCE\n"
     ]
    }
   ],
   "source": [
    "print(\"My name is {}\\nI'm working as a Student {}\".format(\"Sumitakale\",\"at GHRCE\"))"
   ]
  },
  {
   "cell_type": "code",
   "execution_count": 38,
   "metadata": {},
   "outputs": [
    {
     "name": "stdout",
     "output_type": "stream",
     "text": [
      "The number of the counting shall be 3. No more. No less\n"
     ]
    }
   ],
   "source": [
    "print(f\"The number of the {'counting'} shall be {3}. No more. No less\")"
   ]
  },
  {
   "cell_type": "code",
   "execution_count": 39,
   "metadata": {},
   "outputs": [
    {
     "name": "stdout",
     "output_type": "stream",
     "text": [
      "The number of the counting shall be 3. No more. No less\n"
     ]
    }
   ],
   "source": [
    "print(\"The number of the {1} shall be {0}. No more. No less\".format(3, \"counting\"))"
   ]
  },
  {
   "cell_type": "code",
   "execution_count": null,
   "metadata": {},
   "outputs": [],
   "source": []
  }
 ],
 "metadata": {
  "interpreter": {
   "hash": "520a4f93599ee32c0044c310c1ed4bb16303779430f92ddff13639fecfd9b2bd"
  },
  "kernelspec": {
   "display_name": "Python 3.10.4 64-bit",
   "language": "python",
   "name": "python3"
  },
  "language_info": {
   "codemirror_mode": {
    "name": "ipython",
    "version": 3
   },
   "file_extension": ".py",
   "mimetype": "text/x-python",
   "name": "python",
   "nbconvert_exporter": "python",
   "pygments_lexer": "ipython3",
   "version": "3.10.4"
  },
  "orig_nbformat": 4
 },
 "nbformat": 4,
 "nbformat_minor": 2
}
